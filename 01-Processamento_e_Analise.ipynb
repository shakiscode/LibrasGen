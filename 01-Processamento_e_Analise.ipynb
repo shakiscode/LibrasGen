{
 "cells": [
  {
   "cell_type": "markdown",
   "metadata": {},
   "source": [
    "### PASSO 1: Instalação de Dependências\n",
    "\n",
    "**IMPORTANTE:** Execute esta primeira célula de código e espere a instalação terminar. As bibliotecas são necessárias para o restante do notebook funcionar."
   ]
  },
  {
   "cell_type": "code",
   "execution_count": null,
   "metadata": {},
   "outputs": [],
   "source": [
    "import sys\n",
    "# Instala as dependências no ambiente exato que o notebook está usando.\n",
    "!{sys.executable} -m pip install pandas numpy matplotlib seaborn pyarrow"
   ]
  },
  {
   "cell_type": "markdown",
   "metadata": {},
   "source": [
    "### PASSO 2: Importação e Configuração\n",
    "\n",
    "Agora que as bibliotecas estão instaladas, vamos importá-las."
   ]
  },
  {
   "cell_type": "code",
   "execution_count": null,
   "metadata": {},
   "outputs": [],
   "source": [
    "import pandas as pd\n",
    "import numpy as np\n",
    "import matplotlib.pyplot as plt\n",
    "import seaborn as sns\n",
    "import os\n",
    "import glob\n",
    "\n",
    "print(\"Bibliotecas importadas com sucesso!\")\n",
    "\n",
    "# Configurações de visualização\n",
    "sns.set_style('whitegrid')\n",
    "plt.rcParams['figure.figsize'] = (12, 6)"
   ]
  },
  {
   "cell_type": "markdown",
   "metadata": {},
   "source": [
    "### PASSO 3: Carregamento dos Dados\n",
    "\n",
    "Esta célula tenta localizar e carregar o arquivo de dados (`.parquet`) automaticamente."
   ]
  },
  {
   "cell_type": "code",
   "execution_count": null,
   "metadata": {},
   "outputs": [],
   "source": [
    "# Procura por arquivos parquet no diretório de dados coletados\n",
    "search_path = os.path.join('dados_coletados', '**', 'consolidated_alphabet_data_*.parquet')\n",
    "found_files = glob.glob(search_path, recursive=True)\n",
    "\n",
    "df = None # Inicializa o DataFrame como None\n",
    "\n",
    "CAMINHO_DADOS = None\n",
    "if not found_files:\n",
    "    print(\"ERRO: Nenhum arquivo de dados consolidado (`.parquet`) foi encontrado.\")\n",
    "    print(f\"Verifique se o arquivo de dados da Fase 1 está na estrutura de pastas esperada: `dados_coletados\\NOME_DO_COLETOR\\...`\")\n",
    "elif len(found_files) > 1:\n",
    "    print(\"AVISO: Múltiplos arquivos de dados encontrados. Usando o primeiro da lista.\")\n",
    "    print(\"Arquivos encontrados:\", found_files)\n",
    "    CAMINHO_DADOS = found_files[0]\n",
    "else:\n",
    "    CAMINHO_DADOS = found_files[0]\n",
    "\n",
    "if CAMINHO_DADOS:\n",
    "    print(f\"Carregando arquivo: {CAMINHO_DADOS}\")\n",
    "    try:\n",
    "        df = pd.read_parquet(CAMINHO_DADOS, engine='fastparquet')\n",
    "        print(\"Dados carregados com sucesso!\")\n",
    "    except Exception as e:\n",
    "        print(f\"ERRO: Falha ao ler o arquivo Parquet: {e}\")\n",
    "        df = None\n"
   ]
  },
  {
   "cell_type": "markdown",
   "metadata": {},
   "source": [
    "### PASSO 4: Análise Exploratória Inicial\n",
    "\n",
    "As células abaixo farão uma análise rápida da estrutura dos dados, mas apenas se eles foram carregados com sucesso."
   ]
  },
  {
   "cell_type": "code",
   "execution_count": null,
   "metadata": {},
   "outputs": [],
   "source": [
    "# Exibe informações gerais sobre o DataFrame\n",
    "if df is not None:\n",
    "    print(\"Informações do DataFrame:\")\n",
    "    df.info()\n",
    "else:\n",
    "    print(\"DataFrame não carregado. Pule esta etapa.\")"
   ]
  },
  {
   "cell_type": "code",
   "execution_count": null,
   "metadata": {},
   "outputs": [],
   "source": [
    "# Exibe as primeiras 5 linhas do DataFrame para inspeção\n",
    "if df is not None:\n",
    "    print(\"\nCabeçalho do DataFrame:\")\n",
    "    display(df.head())\n",
    "else:\n",
    "    print(\"DataFrame não carregado. Pule esta etapa.\")"
   ]
  },
  {
   "cell_type": "code",
   "execution_count": null,
   "metadata": {},
   "outputs": [],
   "source": [
    "# Verifica a distribuição das classes (letras)\n",
    "if df is not None:\n",
    "    print(\"\nDistribuição de Amostras por Letra:\")\n",
    "    plt.figure(figsize=(15, 7))\n",
    "    sns.countplot(x='label', data=df, order=sorted(df['label'].unique()))\n",
    "    plt.title('Distribuição de Amostras por Letra')\n",
    "    plt.ylabel('Contagem de Frames')\n",
    "    plt.xlabel('Letra')\n",
    "    plt.show()\n",
    "else:\n",
    "    print(\"DataFrame não carregado. Pule esta etapa.\")"
   ]
  }
 ],
 "metadata": {
  "kernelspec": {
   "display_name": "Python 3",
   "language": "python",
   "name": "python3"
  },
  "language_info": {
   "name": "python",
   "version": "3.10.11"
  }
 },
 "nbformat": 4,
 "nbformat_minor": 4
}